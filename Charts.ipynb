{
 "cells": [
  {
   "cell_type": "code",
   "execution_count": 6,
   "metadata": {},
   "outputs": [
    {
     "name": "stdout",
     "output_type": "stream",
     "text": [
      "            0    1\n",
      "0          mr  779\n",
      "1   elizabeth  586\n",
      "2       could  517\n",
      "3       would  461\n",
      "4        said  397\n",
      "5       darcy  344\n",
      "6         mrs  342\n",
      "7        much  316\n",
      "8        must  300\n",
      "9        miss  282\n",
      "10     bennet  277\n",
      "11        one  258\n",
      "12       jane  253\n",
      "13    bingley  242\n",
      "14       know  226\n",
      "15     though  217\n",
      "16      never  217\n",
      "17       soon  211\n",
      "18      think  204\n",
      "19       well  198\n"
     ]
    }
   ],
   "source": [
    "import os\n",
    "import sys\n",
    "module_path = os.path.abspath(os.path.join('..'))\n",
    "if module_path not in sys.path:\n",
    "    sys.path.append(module_path)\n",
    "\n",
    "from main import get_popular_words\n",
    "words = get_popular_wordsain()\n",
    "\n",
    "df = pd.DataFrame(words)\n",
    "print(df)"
   ]
  }
 ],
 "metadata": {
  "kernelspec": {
   "display_name": "Python 3",
   "language": "python",
   "name": "python3"
  }
 },
 "nbformat": 4,
 "nbformat_minor": 4
}
