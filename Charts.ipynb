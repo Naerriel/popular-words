{
 "cells": [
  {
   "cell_type": "code",
   "execution_count": 5,
   "metadata": {},
   "outputs": [
    {
     "data": {
      "text/plain": [
       "[('mr', 779),\n",
       " ('elizabeth', 586),\n",
       " ('could', 517),\n",
       " ('would', 461),\n",
       " ('said', 397),\n",
       " ('darcy', 344),\n",
       " ('mrs', 342),\n",
       " ('much', 316),\n",
       " ('must', 300),\n",
       " ('miss', 282),\n",
       " ('bennet', 277),\n",
       " ('one', 258),\n",
       " ('jane', 253),\n",
       " ('bingley', 242),\n",
       " ('know', 226),\n",
       " ('though', 217),\n",
       " ('never', 217),\n",
       " ('soon', 211),\n",
       " ('think', 204),\n",
       " ('well', 198)]"
      ]
     },
     "execution_count": 5,
     "metadata": {},
     "output_type": "execute_result"
    }
   ],
   "source": [
    "import os\n",
    "import sys\n",
    "module_path = os.path.abspath(os.path.join('..'))\n",
    "if module_path not in sys.path:\n",
    "    sys.path.append(module_path)\n",
    "\n",
    "from main import main\n",
    "words = main()\n",
    "df = pd.DataFrame(words)\n",
    "print(df)"
   ]
  }
 ],
 "metadata": {
  "kernelspec": {
   "display_name": "Python 3",
   "language": "python",
   "name": "python3"
  }
 },
 "nbformat": 4,
 "nbformat_minor": 4
}
